{
 "cells": [
  {
   "cell_type": "markdown",
   "metadata": {},
   "source": [
    "# Case 1: Predicting with texts\n"
   ]
  },
  {
   "cell_type": "markdown",
   "metadata": {},
   "source": [
    "# Lexicon-based sentiment analysis\n"
   ]
  },
  {
   "cell_type": "markdown",
   "metadata": {},
   "source": [
    "## Data importing and cleaning\n"
   ]
  },
  {
   "cell_type": "code",
   "execution_count": 2,
   "metadata": {},
   "outputs": [
    {
     "name": "stdout",
     "output_type": "stream",
     "text": [
      "Current working directory:  /Users/swislar/Desktop/IT1244/Project\n"
     ]
    }
   ],
   "source": [
    "import os\n",
    "import pandas as pd\n",
    "from tqdm import tqdm\n",
    "from bs4 import BeautifulSoup, MarkupResemblesLocatorWarning\n",
    "import warnings\n",
    "from nltk.tokenize import word_tokenize\n",
    "from nltk.corpus import stopwords\n",
    "from afinn import Afinn\n",
    "# pip install afinn\n",
    "\n",
    "\n",
    "warnings.simplefilter(\"ignore\", MarkupResemblesLocatorWarning)\n",
    "pd.set_option('display.max_colwidth', 50)\n",
    "print(\"Current working directory: \", os.getcwd())\n",
    "wd = os.getcwd()\n",
    "# If current working directory is incorrect, use os.chdir(\"path\")\n",
    "# Edit the name of the data file from \"Movie Review\" into \"MovieReview\"\n",
    "# and should be contained in the current working directory"
   ]
  },
  {
   "cell_type": "code",
   "execution_count": 42,
   "metadata": {},
   "outputs": [],
   "source": [
    "def filterWords(TEXT):\n",
    "    '''\n",
    "    TEXT: String of the sentence\n",
    "    RETURN: List of clean words\n",
    "    '''\n",
    "    # Remove HTML Tags and stop words\n",
    "    stop_words = set(stopwords.words(\"english\"))\n",
    "    clean = BeautifulSoup(TEXT, \"html.parser\").get_text()\n",
    "    words = [word.lower() for word in word_tokenize(\n",
    "        clean) if word.isalnum() and word.lower() not in stop_words]\n",
    "    return words\n",
    "\n",
    "\n",
    "def loadAllData(WD=os.getcwd()):\n",
    "    '''\n",
    "    WD: Current working directory containing datasets- os.getcwd() \n",
    "    RETURN: Pandas Dataframe\n",
    "    '''\n",
    "    # Initialise the dataframe\n",
    "    columns = [\"id\", \"text\"]\n",
    "    rows = []\n",
    "    posWD = os.path.join(WD, \"MovieReview/data/pos\")\n",
    "    negWD = os.path.join(WD, \"MovieReview/data/neg\")\n",
    "    # Read positively classified text\n",
    "    for filename in tqdm(os.listdir(posWD), desc='Processing Positive Reviews'):\n",
    "        with open(os.path.join(posWD, filename), \"r\") as file:\n",
    "            posText = filterWords(file.read())\n",
    "        # Strip .txt from filename and split ID and Rating as an integer\n",
    "        posDetails = filename.rstrip(\".txt\").split(\"_\")\n",
    "        posID = int(posDetails[0])\n",
    "        # Add data into the Dataframe\n",
    "        row = {\"id\": posID, \"text\": posText}\n",
    "        rows.append(row)\n",
    "    # Repeat for negative text\n",
    "    for filename in tqdm(os.listdir(negWD), desc='Processing Negative Reviews'):\n",
    "        with open(os.path.join(negWD, filename), \"r\") as file:\n",
    "            negText = filterWords(file.read())\n",
    "        negDetails = filename.rstrip(\".txt\").split(\"_\")\n",
    "        # Offset id by 25000 to prevent overlaps\n",
    "        negID = int(negDetails[0]) + 25000\n",
    "        row = {\"id\": negID, \"text\": negText}\n",
    "        rows.append(row)\n",
    "    return pd.DataFrame(rows, columns=columns)"
   ]
  },
  {
   "cell_type": "code",
   "execution_count": 43,
   "metadata": {},
   "outputs": [
    {
     "name": "stderr",
     "output_type": "stream",
     "text": [
      "Processing Positive Reviews:   0%|          | 0/25000 [00:00<?, ?it/s]"
     ]
    },
    {
     "name": "stderr",
     "output_type": "stream",
     "text": [
      "Processing Positive Reviews: 100%|██████████| 25000/25000 [00:26<00:00, 938.87it/s]\n",
      "Processing Negative Reviews: 100%|██████████| 25000/25000 [00:27<00:00, 919.86it/s]"
     ]
    },
    {
     "name": "stdout",
     "output_type": "stream",
     "text": [
      "<class 'list'>\n"
     ]
    },
    {
     "name": "stderr",
     "output_type": "stream",
     "text": [
      "\n"
     ]
    }
   ],
   "source": [
    "dataframe = loadAllData()"
   ]
  },
  {
   "cell_type": "markdown",
   "metadata": {},
   "source": [
    "## Main\n"
   ]
  },
  {
   "cell_type": "code",
   "execution_count": 48,
   "metadata": {},
   "outputs": [
    {
     "name": "stdout",
     "output_type": "stream",
     "text": [
      "0    [watched, return, lonesome, dove, good, seen, ...\n",
      "1    [movie, looked, like, classic, cheesy, 80s, sl...\n",
      "2    [jay, chou, plays, orphan, raised, kung, fu, s...\n",
      "3    [ooverall, movie, fairly, good, good, action, ...\n",
      "4    [movie, fun, watch, liked, dave, kevin, klein,...\n",
      "Name: text, dtype: object\n",
      "0    1\n",
      "1    0\n",
      "2    1\n",
      "3    1\n",
      "4    0\n",
      "Name: sentiment, dtype: int64\n"
     ]
    }
   ],
   "source": [
    "# Lexicon-based sentiment analysis\n",
    "afinn = Afinn()\n",
    "\n",
    "# Takes approximately 1min to load\n",
    "dataframe[\"sentiment_score\"] = dataframe[\"text\"].apply(\n",
    "    lambda row: sum(afinn.score(word) for word in row))\n",
    "\n",
    "# Classify sentiment based on the total score\n",
    "dataframe[\"sentiment\"] = dataframe[\"sentiment_score\"].apply(\n",
    "    lambda res: 1 if (res > 0) else 0)"
   ]
  },
  {
   "cell_type": "code",
   "execution_count": 68,
   "metadata": {},
   "outputs": [
    {
     "data": {
      "text/html": [
       "<div>\n",
       "<style scoped>\n",
       "    .dataframe tbody tr th:only-of-type {\n",
       "        vertical-align: middle;\n",
       "    }\n",
       "\n",
       "    .dataframe tbody tr th {\n",
       "        vertical-align: top;\n",
       "    }\n",
       "\n",
       "    .dataframe thead th {\n",
       "        text-align: right;\n",
       "    }\n",
       "</style>\n",
       "<table border=\"1\" class=\"dataframe\">\n",
       "  <thead>\n",
       "    <tr style=\"text-align: right;\">\n",
       "      <th></th>\n",
       "      <th>id</th>\n",
       "      <th>text</th>\n",
       "      <th>sentiment_score</th>\n",
       "      <th>sentiment</th>\n",
       "      <th>actual_sentiment</th>\n",
       "    </tr>\n",
       "  </thead>\n",
       "  <tbody>\n",
       "    <tr>\n",
       "      <th>0</th>\n",
       "      <td>20935</td>\n",
       "      <td>[watched, return, lonesome, dove, good, seen, ...</td>\n",
       "      <td>10.0</td>\n",
       "      <td>1</td>\n",
       "      <td>1</td>\n",
       "    </tr>\n",
       "    <tr>\n",
       "      <th>1</th>\n",
       "      <td>12390</td>\n",
       "      <td>[movie, looked, like, classic, cheesy, 80s, sl...</td>\n",
       "      <td>-19.0</td>\n",
       "      <td>0</td>\n",
       "      <td>1</td>\n",
       "    </tr>\n",
       "    <tr>\n",
       "      <th>2</th>\n",
       "      <td>9820</td>\n",
       "      <td>[jay, chou, plays, orphan, raised, kung, fu, s...</td>\n",
       "      <td>30.0</td>\n",
       "      <td>1</td>\n",
       "      <td>1</td>\n",
       "    </tr>\n",
       "    <tr>\n",
       "      <th>3</th>\n",
       "      <td>883</td>\n",
       "      <td>[ooverall, movie, fairly, good, good, action, ...</td>\n",
       "      <td>2.0</td>\n",
       "      <td>1</td>\n",
       "      <td>1</td>\n",
       "    </tr>\n",
       "    <tr>\n",
       "      <th>4</th>\n",
       "      <td>9063</td>\n",
       "      <td>[movie, fun, watch, liked, dave, kevin, klein,...</td>\n",
       "      <td>0.0</td>\n",
       "      <td>0</td>\n",
       "      <td>1</td>\n",
       "    </tr>\n",
       "  </tbody>\n",
       "</table>\n",
       "</div>"
      ],
      "text/plain": [
       "      id                                               text  sentiment_score  \\\n",
       "0  20935  [watched, return, lonesome, dove, good, seen, ...             10.0   \n",
       "1  12390  [movie, looked, like, classic, cheesy, 80s, sl...            -19.0   \n",
       "2   9820  [jay, chou, plays, orphan, raised, kung, fu, s...             30.0   \n",
       "3    883  [ooverall, movie, fairly, good, good, action, ...              2.0   \n",
       "4   9063  [movie, fun, watch, liked, dave, kevin, klein,...              0.0   \n",
       "\n",
       "   sentiment  actual_sentiment  \n",
       "0          1                 1  \n",
       "1          0                 1  \n",
       "2          1                 1  \n",
       "3          1                 1  \n",
       "4          0                 1  "
      ]
     },
     "execution_count": 68,
     "metadata": {},
     "output_type": "execute_result"
    }
   ],
   "source": [
    "dataframe[\"actual_sentiment\"] = dataframe[\"id\"].apply(\n",
    "    lambda id: 1 if id <= 25000 else 0)\n",
    "dataframe.head(5)"
   ]
  },
  {
   "cell_type": "code",
   "execution_count": 67,
   "metadata": {},
   "outputs": [
    {
     "name": "stdout",
     "output_type": "stream",
     "text": [
      "The accuracy of using the Lexicon-based sentiment analysis is 0.70176\n"
     ]
    }
   ],
   "source": [
    "acc = sum(dataframe[\"sentiment\"] ==\n",
    "          dataframe[\"actual_sentiment\"])/dataframe.shape[0]\n",
    "print(f'The accuracy of using the Lexicon-based sentiment analysis is {acc}')"
   ]
  },
  {
   "cell_type": "markdown",
   "metadata": {},
   "source": [
    "# Kmeans\n"
   ]
  },
  {
   "cell_type": "markdown",
   "metadata": {},
   "source": [
    "## Data importing and cleaning\n"
   ]
  },
  {
   "cell_type": "code",
   "execution_count": 7,
   "metadata": {},
   "outputs": [
    {
     "name": "stdout",
     "output_type": "stream",
     "text": [
      "Current working directory:  /Users/swislar/Desktop/IT1244/Project\n"
     ]
    }
   ],
   "source": [
    "import os\n",
    "import pandas as pd\n",
    "import matplotlib.pyplot as plt\n",
    "from tqdm import tqdm\n",
    "from bs4 import BeautifulSoup, MarkupResemblesLocatorWarning\n",
    "import warnings\n",
    "from sklearn.feature_extraction.text import TfidfVectorizer\n",
    "from sklearn.preprocessing import StandardScaler\n",
    "from sklearn.decomposition import PCA\n",
    "from sklearn.cluster import KMeans\n",
    "\n",
    "\n",
    "warnings.simplefilter(\"ignore\", MarkupResemblesLocatorWarning)\n",
    "pd.set_option('display.max_colwidth', 50)\n",
    "print(\"Current working directory: \", os.getcwd())\n",
    "wd = os.getcwd()\n",
    "# If current working directory is incorrect, use os.chdir(\"path\")\n",
    "# Edit the name of the data file from \"Movie Review\" into \"MovieReview\"\n",
    "# and should be contained in the current working directory"
   ]
  },
  {
   "cell_type": "code",
   "execution_count": 2,
   "metadata": {},
   "outputs": [],
   "source": [
    "def filterWords(TEXT):\n",
    "    '''\n",
    "    TEXT: String of the sentence\n",
    "    RETURN: String of clean sentence\n",
    "    '''\n",
    "    # Remove HTML Tags and stop words\n",
    "    clean = BeautifulSoup(TEXT, \"html.parser\").get_text()\n",
    "    return str(clean)\n",
    "\n",
    "\n",
    "def loadAllData(WD=os.getcwd()):\n",
    "    '''\n",
    "    WD: Current working directory containing datasets- os.getcwd() \n",
    "    RETURN: Pandas Dataframe\n",
    "    '''\n",
    "    # Initialise the dataframe\n",
    "    columns = [\"id\", \"text\"]\n",
    "    rows = []\n",
    "    posWD = os.path.join(WD, \"MovieReview/data/pos\")\n",
    "    negWD = os.path.join(WD, \"MovieReview/data/neg\")\n",
    "    # Read positively classified text\n",
    "    for filename in tqdm(os.listdir(posWD), desc='Processing Positive Reviews'):\n",
    "        with open(os.path.join(posWD, filename), \"r\") as file:\n",
    "            posText = filterWords(file.read())\n",
    "        # Strip .txt from filename and split ID and Rating as an integer\n",
    "        posDetails = filename.rstrip(\".txt\").split(\"_\")\n",
    "        posID = int(posDetails[0])\n",
    "        # Add data into the Dataframe\n",
    "        row = {\"id\": posID, \"text\": posText}\n",
    "        rows.append(row)\n",
    "    # Repeat for negative text\n",
    "    for filename in tqdm(os.listdir(negWD), desc='Processing Negative Reviews'):\n",
    "        with open(os.path.join(negWD, filename), \"r\") as file:\n",
    "            negText = filterWords(file.read())\n",
    "        negDetails = filename.rstrip(\".txt\").split(\"_\")\n",
    "        # Offset id by 25000 to prevent overlaps\n",
    "        negID = int(negDetails[0]) + 25000\n",
    "        row = {\"id\": negID, \"text\": negText}\n",
    "        rows.append(row)\n",
    "    return pd.DataFrame(rows, columns=columns)"
   ]
  },
  {
   "cell_type": "code",
   "execution_count": 3,
   "metadata": {},
   "outputs": [
    {
     "name": "stderr",
     "output_type": "stream",
     "text": [
      "Processing Positive Reviews:   0%|          | 0/25000 [00:00<?, ?it/s]"
     ]
    },
    {
     "name": "stderr",
     "output_type": "stream",
     "text": [
      "Processing Positive Reviews: 100%|██████████| 25000/25000 [00:02<00:00, 11137.04it/s]\n",
      "Processing Negative Reviews: 100%|██████████| 25000/25000 [00:02<00:00, 10630.62it/s]\n"
     ]
    }
   ],
   "source": [
    "dataframe = loadAllData()"
   ]
  },
  {
   "cell_type": "markdown",
   "metadata": {},
   "source": [
    "# References\n"
   ]
  },
  {
   "cell_type": "markdown",
   "metadata": {},
   "source": [
    "1. Unsupervised Sentiment Analysis: Extracting Insights From Unlabeled Data </br>\n",
    "   <a>https://www.zonkafeedback.com/blog/unsupervised-sentiment-analysis#:~:text=Unsupervised%20sentiment%20analysis%20helps%20you,reviews)%20to%20train%20a%20model.</a>\n",
    "2. Lexicon-based sentiment analysis: What it is & how to conduct one </br>\n",
    "   https://www.knime.com/blog/lexicon-based-sentiment-analysis\n"
   ]
  }
 ],
 "metadata": {
  "kernelspec": {
   "display_name": "Python 3 (ipykernel)",
   "language": "python",
   "name": "python3"
  },
  "language_info": {
   "codemirror_mode": {
    "name": "ipython",
    "version": 3
   },
   "file_extension": ".py",
   "mimetype": "text/x-python",
   "name": "python",
   "nbconvert_exporter": "python",
   "pygments_lexer": "ipython3",
   "version": "3.10.8"
  }
 },
 "nbformat": 4,
 "nbformat_minor": 2
}
