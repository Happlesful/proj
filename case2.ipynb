{
 "cells": [
  {
   "cell_type": "markdown",
   "metadata": {},
   "source": [
    "# Case 2: Predicting with rating\n"
   ]
  },
  {
   "cell_type": "markdown",
   "metadata": {},
   "source": [
    "# Logistic Regression\n"
   ]
  },
  {
   "cell_type": "markdown",
   "metadata": {},
   "source": [
    "## Data importing and cleaning\n"
   ]
  },
  {
   "cell_type": "code",
   "execution_count": 1,
   "metadata": {},
   "outputs": [
    {
     "name": "stdout",
     "output_type": "stream",
     "text": [
      "Current working directory:  /Users/swislar/Desktop/IT1244/Project\n"
     ]
    }
   ],
   "source": [
    "import os\n",
    "import pandas as pd\n",
    "from tqdm import tqdm\n",
    "import warnings\n",
    "from sklearn.model_selection import train_test_split\n",
    "from sklearn.linear_model import LogisticRegression\n",
    "from sklearn.metrics import accuracy_score\n",
    "from sklearn.metrics import precision_score\n",
    "\n",
    "print(\"Current working directory: \", os.getcwd())\n",
    "wd = os.getcwd()\n",
    "# If current working directory is incorrect, use os.chdir(\"path\")\n",
    "# Edit the name of the data file from \"Movie Review\" into \"MovieReview\"\n",
    "# and should be contained in the current working directory"
   ]
  },
  {
   "cell_type": "code",
   "execution_count": 2,
   "metadata": {},
   "outputs": [],
   "source": [
    "def loadAllData(WD=os.getcwd()):\n",
    "    '''\n",
    "    WD: Current working directory containing datasets- os.getcwd() \n",
    "    RETURN: Pandas Dataframe\n",
    "    '''\n",
    "    # Initialise the dataframe\n",
    "    columns = [\"id\", \"rating\", \"category\"]\n",
    "    rows = []\n",
    "    posWD = os.path.join(WD, \"MovieReview/data/pos\")\n",
    "    negWD = os.path.join(WD, \"MovieReview/data/neg\")\n",
    "    # Read positively classified text\n",
    "    for filename in tqdm(os.listdir(posWD), desc='Processing Positive Reviews'):\n",
    "        # Strip .txt from filename and split ID and Rating as an integer\n",
    "        posDetails = filename.rstrip(\".txt\").split(\"_\")\n",
    "        posID, ratings = int(posDetails[0]), int(posDetails[1])\n",
    "        # Add data into the Dataframe\n",
    "        row = {\"id\": posID, \"rating\": ratings, \"category\": 1}\n",
    "        rows.append(row)\n",
    "    # Repeat for negative text\n",
    "    for filename in tqdm(os.listdir(negWD), desc='Processing Negative Reviews'):\n",
    "        negDetails = filename.rstrip(\".txt\").split(\"_\")\n",
    "        # Offset id by 25000 to prevent overlaps\n",
    "        negID, ratings = int(negDetails[0]) + 25000, int(negDetails[1])\n",
    "        row = {\"id\": negID, \"rating\": ratings, \"category\": 0}\n",
    "        rows.append(row)\n",
    "    return pd.DataFrame(rows, columns=columns)"
   ]
  },
  {
   "cell_type": "code",
   "execution_count": 3,
   "metadata": {},
   "outputs": [
    {
     "name": "stderr",
     "output_type": "stream",
     "text": [
      "Processing Positive Reviews: 100%|██████████| 25000/25000 [00:00<00:00, 523923.87it/s]\n",
      "Processing Negative Reviews: 100%|██████████| 25000/25000 [00:00<00:00, 1905635.62it/s]"
     ]
    },
    {
     "name": "stdout",
     "output_type": "stream",
     "text": [
      "      id  rating  category\n",
      "0  20935       9         1\n",
      "1  12390       8         1\n",
      "2   9820       8         1\n",
      "3    883       7         1\n",
      "4   9063       8         1\n"
     ]
    },
    {
     "name": "stderr",
     "output_type": "stream",
     "text": [
      "\n"
     ]
    }
   ],
   "source": [
    "dataframe = loadAllData()\n",
    "print(dataframe.head())"
   ]
  },
  {
   "cell_type": "markdown",
   "metadata": {},
   "source": [
    "## Logistic Regression Model and Evaluation\n"
   ]
  },
  {
   "cell_type": "markdown",
   "metadata": {},
   "source": [
    "Normalise the rating and split the data into the test set (80%) and training set (20%). Then pass the data into the logistic regression model\n"
   ]
  },
  {
   "cell_type": "code",
   "execution_count": 26,
   "metadata": {},
   "outputs": [
    {
     "name": "stdout",
     "output_type": "stream",
     "text": [
      "Accuracy: 1.0\n",
      "Precision: 1.0\n"
     ]
    }
   ],
   "source": [
    "# Logistic regression\n",
    "X = dataframe[\"rating\"].values.reshape(-1, 1)\n",
    "y = dataframe[\"category\"]\n",
    "\n",
    "X_train, X_test, y_train, y_test = train_test_split(\n",
    "    X, y, test_size=0.2, random_state=42)\n",
    "\n",
    "model = LogisticRegression()\n",
    "model.fit(X_train, y_train)\n",
    "\n",
    "y_pred = model.predict(X_test)\n",
    "\n",
    "accuracy = accuracy_score(y_test, y_pred)\n",
    "print(\"Accuracy:\", accuracy)\n",
    "\n",
    "precision = precision_score(y_test, y_pred)\n",
    "print(\"Precision:\", precision)"
   ]
  },
  {
   "cell_type": "markdown",
   "metadata": {},
   "source": [
    "# Neural Network\n"
   ]
  },
  {
   "cell_type": "markdown",
   "metadata": {},
   "source": [
    "## Load libraries\n"
   ]
  },
  {
   "cell_type": "code",
   "execution_count": 13,
   "metadata": {},
   "outputs": [],
   "source": [
    "from sklearn.model_selection import train_test_split\n",
    "from sklearn.preprocessing import LabelEncoder\n",
    "from keras.models import Sequential\n",
    "from keras.layers import Dense, Dropout\n",
    "import matplotlib.pyplot as plt\n",
    "import seaborn as sns\n",
    "from sklearn.metrics import confusion_matrix"
   ]
  },
  {
   "cell_type": "markdown",
   "metadata": {},
   "source": [
    "## Model and Evaluation\n"
   ]
  },
  {
   "cell_type": "markdown",
   "metadata": {},
   "source": [
    "Normalise the rating and split the data into the test set (80%) and training set (20%). Then pass the data into the artificial neural network\n"
   ]
  },
  {
   "cell_type": "code",
   "execution_count": 10,
   "metadata": {},
   "outputs": [
    {
     "name": "stdout",
     "output_type": "stream",
     "text": [
      "Epoch 1/10\n",
      "625/625 [==============================] - 1s 765us/step - loss: 0.2901 - accuracy: 0.8616 - val_loss: 0.0100 - val_accuracy: 1.0000\n",
      "Epoch 2/10\n",
      "625/625 [==============================] - 0s 642us/step - loss: 0.0137 - accuracy: 0.9988 - val_loss: 0.0010 - val_accuracy: 1.0000\n",
      "Epoch 3/10\n",
      "625/625 [==============================] - 0s 690us/step - loss: 0.0049 - accuracy: 0.9995 - val_loss: 4.3634e-04 - val_accuracy: 1.0000\n",
      "Epoch 4/10\n",
      "625/625 [==============================] - 0s 646us/step - loss: 0.0024 - accuracy: 0.9997 - val_loss: 1.0773e-04 - val_accuracy: 1.0000\n",
      "Epoch 5/10\n",
      "625/625 [==============================] - 0s 636us/step - loss: 0.0018 - accuracy: 0.9996 - val_loss: 5.3010e-05 - val_accuracy: 1.0000\n",
      "Epoch 6/10\n",
      "625/625 [==============================] - 0s 664us/step - loss: 0.0011 - accuracy: 0.9997 - val_loss: 2.2133e-05 - val_accuracy: 1.0000\n",
      "Epoch 7/10\n",
      "625/625 [==============================] - 0s 639us/step - loss: 8.2183e-04 - accuracy: 0.9998 - val_loss: 8.9986e-06 - val_accuracy: 1.0000\n",
      "Epoch 8/10\n",
      "625/625 [==============================] - 0s 637us/step - loss: 7.3149e-04 - accuracy: 0.9998 - val_loss: 4.9018e-06 - val_accuracy: 1.0000\n",
      "Epoch 9/10\n",
      "625/625 [==============================] - 0s 634us/step - loss: 5.2633e-04 - accuracy: 0.9998 - val_loss: 2.1591e-06 - val_accuracy: 1.0000\n",
      "Epoch 10/10\n",
      "625/625 [==============================] - 0s 672us/step - loss: 5.0678e-04 - accuracy: 0.9998 - val_loss: 1.6863e-06 - val_accuracy: 1.0000\n"
     ]
    }
   ],
   "source": [
    "X = dataframe[\"rating\"].values.reshape(-1, 1)\n",
    "y = dataframe[\"category\"]\n",
    "\n",
    "label_encoder = LabelEncoder()\n",
    "y = label_encoder.fit_transform(y)\n",
    "\n",
    "X_train, X_test, y_train, y_test = train_test_split(\n",
    "    X, y, test_size=0.2, random_state=42)\n",
    "\n",
    "model = Sequential()\n",
    "model.add(Dense(64, activation='relu', input_shape=(1,)))\n",
    "model.add(Dropout(0.5))\n",
    "model.add(Dense(32, activation='relu'))\n",
    "model.add(Dropout(0.5))\n",
    "model.add(Dense(1, activation='sigmoid'))\n",
    "\n",
    "# Compile the model\n",
    "model.compile(optimizer='adam', loss='binary_crossentropy',\n",
    "              metrics=['accuracy'])\n",
    "\n",
    "# Train the model\n",
    "history = model.fit(X_train, y_train, epochs=10, batch_size=64,\n",
    "                    validation_data=(X_test, y_test))"
   ]
  },
  {
   "cell_type": "code",
   "execution_count": 20,
   "metadata": {},
   "outputs": [
    {
     "data": {
      "image/png": "[encoded data removed]",
      "text/plain": [
       "<Figure size 800x400 with 2 Axes>"
      ]
     },
     "metadata": {},
     "output_type": "display_data"
    }
   ],
   "source": [
    "# Plot the accuracy over epochs\n",
    "plt.figure(figsize=(8, 4))\n",
    "plt.subplot(1, 2, 1)\n",
    "plt.plot(history.history['accuracy'],\n",
    "         label='Training Accuracy', color='grey')\n",
    "plt.plot(history.history['val_accuracy'],\n",
    "         label='Validation Accuracy', color='cornflowerblue')\n",
    "plt.xlabel('Epoch')\n",
    "plt.ylabel('Accuracy')\n",
    "plt.title('Model Accuracy Over Epochs')\n",
    "plt.legend()\n",
    "\n",
    "# Plot the loss over epochs\n",
    "plt.subplot(1, 2, 2)\n",
    "plt.plot(history.history['loss'],\n",
    "         label='Training Loss', color='grey')\n",
    "plt.plot(history.history['val_loss'],\n",
    "         label='Validation Loss', color='crimson')\n",
    "plt.xlabel('Epoch')\n",
    "plt.ylabel('Loss')\n",
    "plt.title('Model Loss Over Epochs')\n",
    "plt.legend()\n",
    "\n",
    "plt.tight_layout()\n",
    "plt.show()"
   ]
  },
  {
   "cell_type": "code",
   "execution_count": 12,
   "metadata": {},
   "outputs": [
    {
     "name": "stdout",
     "output_type": "stream",
     "text": [
      "313/313 [==============================] - 0s 406us/step - loss: 1.6863e-06 - accuracy: 1.0000\n",
      "Test Accuracy: 100.0%\n"
     ]
    }
   ],
   "source": [
    "# Testing the model and obtain the summary\n",
    "test_loss, test_accuracy = model.evaluate(X_test, y_test)\n",
    "print(f'Test Accuracy: {test_accuracy * 100}%')"
   ]
  },
  {
   "cell_type": "code",
   "execution_count": 14,
   "metadata": {},
   "outputs": [
    {
     "name": "stdout",
     "output_type": "stream",
     "text": [
      "313/313 [==============================] - 0s 362us/step\n"
     ]
    },
    {
     "data": {
      "image/png": "[encoded data removed]",
      "text/plain": [
       "<Figure size 600x450 with 2 Axes>"
      ]
     },
     "metadata": {},
     "output_type": "display_data"
    }
   ],
   "source": [
    "modelOne_pred_actual = model.predict(X_test)\n",
    "modelOne_pred = [0 if x <= 0.5 else 1 for x in modelOne_pred_actual]\n",
    "\n",
    "# Plot confusion matrix\n",
    "conf_matrix = confusion_matrix(modelOne_pred, y_test)\n",
    "plt.figure(figsize=(6, 4.5))\n",
    "sns.heatmap(conf_matrix, annot=True, cmap='Purples', fmt='d',\n",
    "            xticklabels=['Predicted 0', 'Predicted 1'],\n",
    "            yticklabels=['Actual 0', 'Actual 1'])\n",
    "plt.xlabel('Predicted labels')\n",
    "plt.ylabel('True labels')\n",
    "plt.title('Confusion Matrix')\n",
    "plt.show()"
   ]
  },
  {
   "cell_type": "markdown",
   "metadata": {},
   "source": [
    "# K-Nearest Neighbour\n"
   ]
  },
  {
   "cell_type": "markdown",
   "metadata": {},
   "source": [
    "## Import Libraries\n"
   ]
  },
  {
   "cell_type": "code",
   "execution_count": 17,
   "metadata": {},
   "outputs": [],
   "source": [
    "from sklearn.neighbors import KNeighborsClassifier"
   ]
  },
  {
   "cell_type": "markdown",
   "metadata": {},
   "source": [
    "## Model and Evaluation\n"
   ]
  },
  {
   "cell_type": "markdown",
   "metadata": {},
   "source": [
    "Normalise the rating and split the data into the test set (80%) and training set (20%). Then pass the data into the KNN model\n"
   ]
  },
  {
   "cell_type": "code",
   "execution_count": 18,
   "metadata": {},
   "outputs": [
    {
     "name": "stdout",
     "output_type": "stream",
     "text": [
      "Test Accuracy: 1.0\n"
     ]
    }
   ],
   "source": [
    "# Encoding labels\n",
    "label_encoder = LabelEncoder()\n",
    "y = label_encoder.fit_transform(y)\n",
    "\n",
    "# Splitting data into training and testing sets\n",
    "X_train, X_test, y_train, y_test = train_test_split(\n",
    "    X, y, test_size=0.2, random_state=42)\n",
    "\n",
    "# KNN model\n",
    "knn_classifier = KNeighborsClassifier(n_neighbors=3)\n",
    "knn_classifier.fit(X_train, y_train)\n",
    "\n",
    "# Predictions\n",
    "y_pred = knn_classifier.predict(X_test)\n",
    "\n",
    "# Calculate accuracy\n",
    "accuracy = accuracy_score(y_test, y_pred)\n",
    "print(\"Test Accuracy:\", accuracy)"
   ]
  }
 ],
 "metadata": {
  "kernelspec": {
   "display_name": "Python 3 (ipykernel)",
   "language": "python",
   "name": "python3"
  },
  "language_info": {
   "codemirror_mode": {
    "name": "ipython",
    "version": 3
   },
   "file_extension": ".py",
   "mimetype": "text/x-python",
   "name": "python",
   "nbconvert_exporter": "python",
   "pygments_lexer": "ipython3",
   "version": "3.10.8"
  }
 },
 "nbformat": 4,
 "nbformat_minor": 2
}
