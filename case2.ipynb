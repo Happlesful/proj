{
 "cells": [
  {
   "cell_type": "markdown",
   "metadata": {},
   "source": [
    "# Case 2: Predicting with rating\n"
   ]
  },
  {
   "cell_type": "markdown",
   "metadata": {},
   "source": [
    "# Logistic Regression\n"
   ]
  },
  {
   "cell_type": "markdown",
   "metadata": {},
   "source": [
    "## Data importing and cleaning\n"
   ]
  },
  {
   "cell_type": "code",
   "execution_count": 24,
   "metadata": {},
   "outputs": [
    {
     "name": "stdout",
     "output_type": "stream",
     "text": [
      "Current working directory:  c:\\Users\\parma\\OneDrive\\Documents\\y2s2\\it1244\n"
     ]
    },
    {
     "name": "stderr",
     "output_type": "stream",
     "text": [
      "[nltk_data] Downloading package stopwords to\n",
      "[nltk_data]     C:\\Users\\parma\\AppData\\Roaming\\nltk_data...\n",
      "[nltk_data]   Package stopwords is already up-to-date!\n"
     ]
    }
   ],
   "source": [
    "import os\n",
    "import pandas as pd\n",
    "from tqdm import tqdm\n",
    "import warnings\n",
    "from sklearn.model_selection import train_test_split\n",
    "from sklearn.linear_model import LogisticRegression\n",
    "from sklearn.metrics import accuracy_score\n",
    "from sklearn.metrics import precision_score\n",
    "\n",
    "print(\"Current working directory: \", os.getcwd())\n",
    "wd = os.getcwd()\n",
    "# If current working directory is incorrect, use os.chdir(\"path\")\n",
    "# Edit the name of the data file from \"Movie Review\" into \"MovieReview\"\n",
    "# and should be contained in the current working directory"
   ]
  },
  {
   "cell_type": "code",
   "execution_count": 19,
   "metadata": {},
   "outputs": [],
   "source": [
    "def loadAllData(WD=os.getcwd()):\n",
    "    '''\n",
    "    WD: Current working directory containing datasets- os.getcwd() \n",
    "    RETURN: Pandas Dataframe\n",
    "    '''\n",
    "    # Initialise the dataframe\n",
    "    columns = [\"id\", \"rating\", \"category\"]\n",
    "    rows = []\n",
    "    posWD = os.path.join(WD, \"MovieReview/data/pos\")\n",
    "    negWD = os.path.join(WD, \"MovieReview/data/neg\")\n",
    "    # Read positively classified text\n",
    "    for filename in tqdm(os.listdir(posWD), desc='Processing Positive Reviews'):\n",
    "        # Strip .txt from filename and split ID and Rating as an integer\n",
    "        posDetails = filename.rstrip(\".txt\").split(\"_\")\n",
    "        posID, ratings = int(posDetails[0]), int(posDetails[1])\n",
    "        # Add data into the Dataframe\n",
    "        row = {\"id\": posID, \"rating\": ratings, \"category\": 1}\n",
    "        rows.append(row)\n",
    "    # Repeat for negative text\n",
    "    for filename in tqdm(os.listdir(negWD), desc='Processing Negative Reviews'):\n",
    "        negDetails = filename.rstrip(\".txt\").split(\"_\")\n",
    "        # Offset id by 25000 to prevent overlaps\n",
    "        negID, ratings = int(negDetails[0]) + 25000, int(negDetails[1])\n",
    "        row = {\"id\": negID, \"rating\": ratings, \"category\": 0}\n",
    "        rows.append(row)\n",
    "    return pd.DataFrame(rows, columns=columns)"
   ]
  },
  {
   "cell_type": "code",
   "execution_count": 20,
   "metadata": {},
   "outputs": [
    {
     "name": "stderr",
     "output_type": "stream",
     "text": [
      "Processing Positive Reviews: 100%|██████████| 25000/25000 [00:00<00:00, 1375759.01it/s]\n",
      "Processing Negative Reviews: 100%|██████████| 25000/25000 [00:00<00:00, 1141232.68it/s]"
     ]
    },
    {
     "name": "stdout",
     "output_type": "stream",
     "text": [
      "      id  rating  category\n",
      "0  10000       8         1\n",
      "1  10001       7         1\n",
      "2  10002       8         1\n",
      "3  10003      10         1\n",
      "4  10004       9         1\n"
     ]
    },
    {
     "name": "stderr",
     "output_type": "stream",
     "text": [
      "\n"
     ]
    }
   ],
   "source": [
    "dataframe = loadAllData()\n",
    "print(dataframe.head())"
   ]
  },
  {
   "cell_type": "markdown",
   "metadata": {},
   "source": [
    "## Model\n"
   ]
  },
  {
   "cell_type": "code",
   "execution_count": 26,
   "metadata": {},
   "outputs": [
    {
     "name": "stdout",
     "output_type": "stream",
     "text": [
      "Accuracy: 1.0\n",
      "Precision: 1.0\n"
     ]
    }
   ],
   "source": [
    "# Logistic regression\n",
    "X = dataframe[\"rating\"].values.reshape(-1, 1)\n",
    "y = dataframe[\"category\"]\n",
    "\n",
    "X_train, X_test, y_train, y_test = train_test_split(\n",
    "    X, y, test_size=0.3, random_state=42)\n",
    "\n",
    "model = LogisticRegression()\n",
    "model.fit(X_train, y_train)\n",
    "\n",
    "y_pred = model.predict(X_test)\n",
    "\n",
    "accuracy = accuracy_score(y_test, y_pred)\n",
    "print(\"Accuracy:\", accuracy)\n",
    "\n",
    "precision = precision_score(y_test, y_pred)\n",
    "print(\"Precision:\", precision)"
   ]
  }
 ],
 "metadata": {
  "kernelspec": {
   "display_name": "Python 3 (ipykernel)",
   "language": "python",
   "name": "python3"
  },
  "language_info": {
   "codemirror_mode": {
    "name": "ipython",
    "version": 3
   },
   "file_extension": ".py",
   "mimetype": "text/x-python",
   "name": "python",
   "nbconvert_exporter": "python",
   "pygments_lexer": "ipython3",
   "version": "3.11.5"
  }
 },
 "nbformat": 4,
 "nbformat_minor": 2
}
